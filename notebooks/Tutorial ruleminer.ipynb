{
 "cells": [
  {
   "cell_type": "code",
   "execution_count": 1,
   "metadata": {
    "scrolled": true
   },
   "outputs": [],
   "source": [
    "import ruleminer\n",
    "import logging\n",
    "import sys\n",
    "import pandas as pd\n",
    "import numpy as np\n",
    "from datetime import datetime"
   ]
  },
  {
   "cell_type": "code",
   "execution_count": 2,
   "metadata": {},
   "outputs": [],
   "source": [
    "logging.basicConfig(\n",
    "    stream=sys.stdout, format=\"%(asctime)s %(message)s\", level=logging.INFO\n",
    ")"
   ]
  },
  {
   "cell_type": "code",
   "execution_count": 3,
   "metadata": {},
   "outputs": [],
   "source": [
    "df = pd.DataFrame(\n",
    "    columns=[\n",
    "        \"Name\",\n",
    "        \"Type\",\n",
    "        \"Assets\",\n",
    "        \"TV-life\",\n",
    "        \"TV-nonlife\",\n",
    "        \"Own funds\",\n",
    "        \"Excess\",\n",
    "    ],\n",
    "    data=[\n",
    "        [\"Insurer1\", \"life insurer\", 1000, 800, 0, 200, 200],\n",
    "        [\"Insurer2\", \"non-life insurer\", 4000, 0, 3200, 800, 800],\n",
    "        [\"Insurer3\", \"non-life insurer\", 800, 0, 700, 100, 100],\n",
    "        [\"Insurer4\", \"life insurer\", 2500, 1800, 0, 700, 700],\n",
    "        [\"Insurer5\", \"non-life insurer\", 2100, 0, 2200, 200, 200],\n",
    "        [\"Insurer6\", \"life insurer\", 9000, 8800, 0, 200, 200],\n",
    "        [\"Insurer7\", \"life insurer\", 9000, 8800, 0, 200, 200],\n",
    "        [\"Insurer8\", \"life insurer\", 9000, 8800, 0, 200, 200],\n",
    "        [\"Insurer9\", \"non-life insurer\", 9000, 8800, 0, 200, 200],\n",
    "        [\"Insurer10\", \"non-life insurer\", 9000, 0, 8800, 200, 199.99],\n",
    "    ],\n",
    ")"
   ]
  },
  {
   "cell_type": "code",
   "execution_count": 4,
   "metadata": {
    "scrolled": false
   },
   "outputs": [
    {
     "data": {
      "text/html": [
       "<div>\n",
       "<style scoped>\n",
       "    .dataframe tbody tr th:only-of-type {\n",
       "        vertical-align: middle;\n",
       "    }\n",
       "\n",
       "    .dataframe tbody tr th {\n",
       "        vertical-align: top;\n",
       "    }\n",
       "\n",
       "    .dataframe thead th {\n",
       "        text-align: right;\n",
       "    }\n",
       "</style>\n",
       "<table border=\"1\" class=\"dataframe\">\n",
       "  <thead>\n",
       "    <tr style=\"text-align: right;\">\n",
       "      <th></th>\n",
       "      <th>Name</th>\n",
       "      <th>Type</th>\n",
       "      <th>Assets</th>\n",
       "      <th>TV-life</th>\n",
       "      <th>TV-nonlife</th>\n",
       "      <th>Own funds</th>\n",
       "      <th>Excess</th>\n",
       "    </tr>\n",
       "  </thead>\n",
       "  <tbody>\n",
       "    <tr>\n",
       "      <th>0</th>\n",
       "      <td>Insurer1</td>\n",
       "      <td>life insurer</td>\n",
       "      <td>1000</td>\n",
       "      <td>800</td>\n",
       "      <td>0</td>\n",
       "      <td>200</td>\n",
       "      <td>200.00</td>\n",
       "    </tr>\n",
       "    <tr>\n",
       "      <th>1</th>\n",
       "      <td>Insurer2</td>\n",
       "      <td>non-life insurer</td>\n",
       "      <td>4000</td>\n",
       "      <td>0</td>\n",
       "      <td>3200</td>\n",
       "      <td>800</td>\n",
       "      <td>800.00</td>\n",
       "    </tr>\n",
       "    <tr>\n",
       "      <th>2</th>\n",
       "      <td>Insurer3</td>\n",
       "      <td>non-life insurer</td>\n",
       "      <td>800</td>\n",
       "      <td>0</td>\n",
       "      <td>700</td>\n",
       "      <td>100</td>\n",
       "      <td>100.00</td>\n",
       "    </tr>\n",
       "    <tr>\n",
       "      <th>3</th>\n",
       "      <td>Insurer4</td>\n",
       "      <td>life insurer</td>\n",
       "      <td>2500</td>\n",
       "      <td>1800</td>\n",
       "      <td>0</td>\n",
       "      <td>700</td>\n",
       "      <td>700.00</td>\n",
       "    </tr>\n",
       "    <tr>\n",
       "      <th>4</th>\n",
       "      <td>Insurer5</td>\n",
       "      <td>non-life insurer</td>\n",
       "      <td>2100</td>\n",
       "      <td>0</td>\n",
       "      <td>2200</td>\n",
       "      <td>200</td>\n",
       "      <td>200.00</td>\n",
       "    </tr>\n",
       "    <tr>\n",
       "      <th>5</th>\n",
       "      <td>Insurer6</td>\n",
       "      <td>life insurer</td>\n",
       "      <td>9000</td>\n",
       "      <td>8800</td>\n",
       "      <td>0</td>\n",
       "      <td>200</td>\n",
       "      <td>200.00</td>\n",
       "    </tr>\n",
       "    <tr>\n",
       "      <th>6</th>\n",
       "      <td>Insurer7</td>\n",
       "      <td>life insurer</td>\n",
       "      <td>9000</td>\n",
       "      <td>8800</td>\n",
       "      <td>0</td>\n",
       "      <td>200</td>\n",
       "      <td>200.00</td>\n",
       "    </tr>\n",
       "    <tr>\n",
       "      <th>7</th>\n",
       "      <td>Insurer8</td>\n",
       "      <td>life insurer</td>\n",
       "      <td>9000</td>\n",
       "      <td>8800</td>\n",
       "      <td>0</td>\n",
       "      <td>200</td>\n",
       "      <td>200.00</td>\n",
       "    </tr>\n",
       "    <tr>\n",
       "      <th>8</th>\n",
       "      <td>Insurer9</td>\n",
       "      <td>non-life insurer</td>\n",
       "      <td>9000</td>\n",
       "      <td>8800</td>\n",
       "      <td>0</td>\n",
       "      <td>200</td>\n",
       "      <td>200.00</td>\n",
       "    </tr>\n",
       "    <tr>\n",
       "      <th>9</th>\n",
       "      <td>Insurer10</td>\n",
       "      <td>non-life insurer</td>\n",
       "      <td>9000</td>\n",
       "      <td>0</td>\n",
       "      <td>8800</td>\n",
       "      <td>200</td>\n",
       "      <td>199.99</td>\n",
       "    </tr>\n",
       "  </tbody>\n",
       "</table>\n",
       "</div>"
      ],
      "text/plain": [
       "        Name              Type  Assets  TV-life  TV-nonlife  Own funds  Excess\n",
       "0   Insurer1      life insurer    1000      800           0        200  200.00\n",
       "1   Insurer2  non-life insurer    4000        0        3200        800  800.00\n",
       "2   Insurer3  non-life insurer     800        0         700        100  100.00\n",
       "3   Insurer4      life insurer    2500     1800           0        700  700.00\n",
       "4   Insurer5  non-life insurer    2100        0        2200        200  200.00\n",
       "5   Insurer6      life insurer    9000     8800           0        200  200.00\n",
       "6   Insurer7      life insurer    9000     8800           0        200  200.00\n",
       "7   Insurer8      life insurer    9000     8800           0        200  200.00\n",
       "8   Insurer9  non-life insurer    9000     8800           0        200  200.00\n",
       "9  Insurer10  non-life insurer    9000        0        8800        200  199.99"
      ]
     },
     "execution_count": 4,
     "metadata": {},
     "output_type": "execute_result"
    }
   ],
   "source": [
    "df"
   ]
  },
  {
   "cell_type": "code",
   "execution_count": 5,
   "metadata": {},
   "outputs": [],
   "source": [
    "# templates = [{'expression': 'if (((?P<col>[{\".*\"}]) == \".*\") or ((?P=col)==\".*\")) then ({\".*\"} == 0)'}]\n",
    "# r = ruleminer.RuleMiner(templates=templates, data=df)"
   ]
  },
  {
   "cell_type": "code",
   "execution_count": 6,
   "metadata": {},
   "outputs": [],
   "source": [
    "# import re\n",
    "# a = re.search('.*?P<([a-z]+)>.*', 'if (((?P<col>{\".*\"}) == \".*\") or ((?P=col)==\".*\")) then ({\".*\"} == 0)')\n",
    "# print(a.group(1))"
   ]
  },
  {
   "cell_type": "code",
   "execution_count": 7,
   "metadata": {
    "scrolled": true
   },
   "outputs": [
    {
     "name": "stdout",
     "output_type": "stream",
     "text": [
      "2023-08-29 08:39:30,635 Expression for if-part ([['{\".*\"}', '==', '\".*\"']]) generated\n",
      "2023-08-29 08:39:30,669 Finished\n"
     ]
    },
    {
     "data": {
      "text/plain": [
       "{'rule_id': {0: 0, 1: 1},\n",
       " 'rule_group': {0: 0, 1: 0},\n",
       " 'rule_definition': {0: 'if({\"Type\"}==\"life insurer\")then({\"TV-nonlife\"}==0)',\n",
       "  1: 'if({\"Type\"}==\"non-life insurer\")then({\"TV-life\"}==0)'},\n",
       " 'rule_status': {0: '', 1: ''},\n",
       " 'abs support': {0: 5, 1: 4},\n",
       " 'abs exceptions': {0: 0, 1: 1},\n",
       " 'confidence': {0: 1.0, 1: 0.8},\n",
       " 'encodings': {0: {}, 1: {}}}"
      ]
     },
     "execution_count": 7,
     "metadata": {},
     "output_type": "execute_result"
    }
   ],
   "source": [
    "templates = [{\"expression\": 'if ({\".*\"} == \".*\") then ({\".*\"} == 0)'}]\n",
    "r = ruleminer.RuleMiner(templates=templates, data=df)\n",
    "r.rules.to_dict()\n",
    "# [[('{\".*\"}', None)]]"
   ]
  },
  {
   "cell_type": "code",
   "execution_count": 8,
   "metadata": {},
   "outputs": [],
   "source": [
    "r.rules = pd.DataFrame(\n",
    "    {\n",
    "        \"rule_id\": {0: 0, 1: 1},\n",
    "        \"rule_group\": {0: 0, 1: 0},\n",
    "        \"rule_definition\": {\n",
    "            0: 'if({\"Type\"}==\"life insurer\")then({\"TV-nonlife\"}==0)',\n",
    "            1: 'if({\"Type\"}==abs(\"non-life insurer\"))then({\"TV-life\"}==0)',\n",
    "        },\n",
    "        \"rule_status\": {0: \"\", 1: \"\"},\n",
    "        \"abs support\": {0: 5, 1: 4},\n",
    "        \"abs exceptions\": {0: 0, 1: 1},\n",
    "        \"confidence\": {0: 1.0, 1: 0.8},\n",
    "        \"encodings\": {0: {}, 1: {}},\n",
    "    }\n",
    ")"
   ]
  },
  {
   "cell_type": "code",
   "execution_count": 9,
   "metadata": {},
   "outputs": [
    {
     "name": "stdout",
     "output_type": "stream",
     "text": [
      "2023-08-29 08:39:31,594 Error when evaluating rule results for rule id 1\n"
     ]
    },
    {
     "data": {
      "text/html": [
       "<div>\n",
       "<style scoped>\n",
       "    .dataframe tbody tr th:only-of-type {\n",
       "        vertical-align: middle;\n",
       "    }\n",
       "\n",
       "    .dataframe tbody tr th {\n",
       "        vertical-align: top;\n",
       "    }\n",
       "\n",
       "    .dataframe thead th {\n",
       "        text-align: right;\n",
       "    }\n",
       "</style>\n",
       "<table border=\"1\" class=\"dataframe\">\n",
       "  <thead>\n",
       "    <tr style=\"text-align: right;\">\n",
       "      <th></th>\n",
       "      <th>rule_id</th>\n",
       "      <th>rule_group</th>\n",
       "      <th>rule_definition</th>\n",
       "      <th>rule_status</th>\n",
       "      <th>abs support</th>\n",
       "      <th>abs exceptions</th>\n",
       "      <th>confidence</th>\n",
       "      <th>result</th>\n",
       "      <th>indices</th>\n",
       "    </tr>\n",
       "  </thead>\n",
       "  <tbody>\n",
       "    <tr>\n",
       "      <th>0</th>\n",
       "      <td>0</td>\n",
       "      <td>0</td>\n",
       "      <td>if({\"Type\"}==\"life insurer\")then({\"TV-nonlife\"...</td>\n",
       "      <td></td>\n",
       "      <td>5</td>\n",
       "      <td>0</td>\n",
       "      <td>1.0</td>\n",
       "      <td>True</td>\n",
       "      <td>0</td>\n",
       "    </tr>\n",
       "    <tr>\n",
       "      <th>1</th>\n",
       "      <td>0</td>\n",
       "      <td>0</td>\n",
       "      <td>if({\"Type\"}==\"life insurer\")then({\"TV-nonlife\"...</td>\n",
       "      <td></td>\n",
       "      <td>5</td>\n",
       "      <td>0</td>\n",
       "      <td>1.0</td>\n",
       "      <td>True</td>\n",
       "      <td>3</td>\n",
       "    </tr>\n",
       "    <tr>\n",
       "      <th>2</th>\n",
       "      <td>0</td>\n",
       "      <td>0</td>\n",
       "      <td>if({\"Type\"}==\"life insurer\")then({\"TV-nonlife\"...</td>\n",
       "      <td></td>\n",
       "      <td>5</td>\n",
       "      <td>0</td>\n",
       "      <td>1.0</td>\n",
       "      <td>True</td>\n",
       "      <td>5</td>\n",
       "    </tr>\n",
       "    <tr>\n",
       "      <th>3</th>\n",
       "      <td>0</td>\n",
       "      <td>0</td>\n",
       "      <td>if({\"Type\"}==\"life insurer\")then({\"TV-nonlife\"...</td>\n",
       "      <td></td>\n",
       "      <td>5</td>\n",
       "      <td>0</td>\n",
       "      <td>1.0</td>\n",
       "      <td>True</td>\n",
       "      <td>6</td>\n",
       "    </tr>\n",
       "    <tr>\n",
       "      <th>4</th>\n",
       "      <td>0</td>\n",
       "      <td>0</td>\n",
       "      <td>if({\"Type\"}==\"life insurer\")then({\"TV-nonlife\"...</td>\n",
       "      <td></td>\n",
       "      <td>5</td>\n",
       "      <td>0</td>\n",
       "      <td>1.0</td>\n",
       "      <td>True</td>\n",
       "      <td>7</td>\n",
       "    </tr>\n",
       "  </tbody>\n",
       "</table>\n",
       "</div>"
      ],
      "text/plain": [
       "  rule_id rule_group                                    rule_definition  \\\n",
       "0       0          0  if({\"Type\"}==\"life insurer\")then({\"TV-nonlife\"...   \n",
       "1       0          0  if({\"Type\"}==\"life insurer\")then({\"TV-nonlife\"...   \n",
       "2       0          0  if({\"Type\"}==\"life insurer\")then({\"TV-nonlife\"...   \n",
       "3       0          0  if({\"Type\"}==\"life insurer\")then({\"TV-nonlife\"...   \n",
       "4       0          0  if({\"Type\"}==\"life insurer\")then({\"TV-nonlife\"...   \n",
       "\n",
       "  rule_status abs support abs exceptions  confidence  result indices  \n",
       "0                       5              0         1.0    True       0  \n",
       "1                       5              0         1.0    True       3  \n",
       "2                       5              0         1.0    True       5  \n",
       "3                       5              0         1.0    True       6  \n",
       "4                       5              0         1.0    True       7  "
      ]
     },
     "execution_count": 9,
     "metadata": {},
     "output_type": "execute_result"
    }
   ],
   "source": [
    "r.evaluate()"
   ]
  },
  {
   "cell_type": "code",
   "execution_count": 10,
   "metadata": {},
   "outputs": [],
   "source": [
    "# templates = [{'expression': 'if ({\".*\"} in [\".*\"]) then ({\".*\"} == 0)'}]\n",
    "# r = ruleminer.RuleMiner(templates=templates, data=df)\n",
    "# r.rules"
   ]
  },
  {
   "cell_type": "code",
   "execution_count": null,
   "metadata": {},
   "outputs": [],
   "source": [
    "df"
   ]
  },
  {
   "cell_type": "code",
   "execution_count": null,
   "metadata": {},
   "outputs": [],
   "source": [
    "templates = [{\"expression\": '({\"Own funds\"} <= quantile({\"Own funds\"}, 0.95))'}]\n",
    "r = ruleminer.RuleMiner(templates=templates, data=df)\n",
    "r.rules"
   ]
  },
  {
   "cell_type": "code",
   "execution_count": null,
   "metadata": {},
   "outputs": [],
   "source": [
    "templates = [{\"expression\": '({\"Own funds\"} <= quantile({\"Own funds\"}, 0.95))'}]\n",
    "r = ruleminer.RuleMiner(\n",
    "    templates=templates, data=df, params={\"evaluate_quantile\": True}\n",
    ")\n",
    "r.rules"
   ]
  },
  {
   "cell_type": "code",
   "execution_count": null,
   "metadata": {
    "scrolled": true
   },
   "outputs": [],
   "source": [
    "templates = [{\"expression\": '(max({\".*\"}, {\".*\"})=={\".*\"})'}]\n",
    "r = ruleminer.RuleMiner(templates=templates, data=df)"
   ]
  },
  {
   "cell_type": "code",
   "execution_count": null,
   "metadata": {},
   "outputs": [],
   "source": [
    "r.rules"
   ]
  },
  {
   "cell_type": "code",
   "execution_count": null,
   "metadata": {
    "scrolled": true
   },
   "outputs": [],
   "source": [
    "params = {\n",
    "    \"metrics\": [\n",
    "        \"rule power factor\",\n",
    "        \"added value\",\n",
    "        \"abs support\",\n",
    "        \"abs exceptions\",\n",
    "        \"confidence\",\n",
    "    ]\n",
    "}\n",
    "templates = [{\"expression\": 'if ({\".*\"} == \".*\") then ({\"TV.*\"} > 0)'}]\n",
    "r = ruleminer.RuleMiner(templates=templates, data=df, params=params)"
   ]
  },
  {
   "cell_type": "code",
   "execution_count": null,
   "metadata": {},
   "outputs": [],
   "source": [
    "r.rules"
   ]
  },
  {
   "cell_type": "code",
   "execution_count": null,
   "metadata": {},
   "outputs": [],
   "source": [
    "r.evaluate()"
   ]
  },
  {
   "cell_type": "code",
   "execution_count": null,
   "metadata": {
    "scrolled": true
   },
   "outputs": [],
   "source": [
    "templates = [{\"group\": \"simple\", \"expression\": '({\".*\"} >= 0)'}]\n",
    "r = ruleminer.RuleMiner(templates=templates, data=df)\n",
    "r.rules"
   ]
  },
  {
   "cell_type": "code",
   "execution_count": null,
   "metadata": {
    "scrolled": true
   },
   "outputs": [],
   "source": [
    "templates = [{\"group\": \"simple\", \"expression\": '({\".*\"} == {\".*\"})'}]\n",
    "r = ruleminer.RuleMiner(templates=templates, data=df, params={\"decimal\": 3})\n",
    "r.rules"
   ]
  },
  {
   "cell_type": "code",
   "execution_count": null,
   "metadata": {
    "scrolled": true
   },
   "outputs": [],
   "source": [
    "templates = [{\"group\": \"simple\", \"expression\": '(({\".*\"} + {\".*\"} * {\".*\"})=={\".*\"})'}]\n",
    "r = ruleminer.RuleMiner(templates=templates, data=df)\n",
    "r.rules"
   ]
  },
  {
   "cell_type": "code",
   "execution_count": null,
   "metadata": {},
   "outputs": [],
   "source": [
    "templates = [\n",
    "    {\"group\": \"simple\", \"expression\": 'if ({\"Type\"} == \".*\") then ({\".*\"} == 0)'},\n",
    "    {\"group\": \"complex\", \"expression\": 'if ({\".*\"} == \".*\") then ({\".*\"} == 0)'},\n",
    "]\n",
    "r = ruleminer.RuleMiner(templates=templates, data=df)\n",
    "r.rules"
   ]
  },
  {
   "cell_type": "code",
   "execution_count": null,
   "metadata": {
    "scrolled": true
   },
   "outputs": [],
   "source": [
    "ruleminer.flatten_and_sort(\n",
    "    ruleminer.parser.RULE_SYNTAX.parse_string(\n",
    "        '(({\"4\"} + {\"3\"} + {\"2\"} + {\"1\"}) > 0)', parse_all=True\n",
    "    ).as_list()\n",
    ")"
   ]
  },
  {
   "cell_type": "code",
   "execution_count": null,
   "metadata": {},
   "outputs": [],
   "source": [
    "templates = [\n",
    "    {\n",
    "        \"expression\": 'if (({\"T.*\"} == \".*\") & ({\"T.*\"} == 0) & ({\"T.*\"} == 0) & ({\"T.*\"} == 0)) then ({\"TV.*\"} > 0)'\n",
    "    }\n",
    "]\n",
    "r = ruleminer.RuleMiner(\n",
    "    templates=templates,\n",
    "    data=df,\n",
    "    params={\n",
    "        \"metrics\": [\"casual confidence\", \"abs support\", \"abs exceptions\", \"confidence\"]\n",
    "    },\n",
    ")"
   ]
  },
  {
   "cell_type": "code",
   "execution_count": null,
   "metadata": {},
   "outputs": [],
   "source": [
    "r.rules"
   ]
  },
  {
   "cell_type": "code",
   "execution_count": null,
   "metadata": {},
   "outputs": [],
   "source": [
    "templates = [{\"expression\": '({\".*\"} > {\".*\"})'}]\n",
    "r = ruleminer.RuleMiner(\n",
    "    templates=templates,\n",
    "    data=df,\n",
    "    params={\"metrics\": [\"support\", \"abs support\", \"confidence\"]},\n",
    ")\n",
    "r.generate()"
   ]
  },
  {
   "cell_type": "code",
   "execution_count": null,
   "metadata": {},
   "outputs": [],
   "source": [
    "r.rules"
   ]
  },
  {
   "cell_type": "code",
   "execution_count": null,
   "metadata": {
    "scrolled": true
   },
   "outputs": [],
   "source": [
    "templates = [{\"expression\": '(({\".*\"}+{\".*\"}) == {\".*\"})'}]\n",
    "r = ruleminer.RuleMiner(templates=templates, data=df)"
   ]
  },
  {
   "cell_type": "code",
   "execution_count": null,
   "metadata": {},
   "outputs": [],
   "source": [
    "r.rules"
   ]
  },
  {
   "cell_type": "code",
   "execution_count": null,
   "metadata": {},
   "outputs": [],
   "source": [
    "templates = [\n",
    "    {\"group\": \"simple\", \"expression\": 'if ({\"Type\"} == \".*\") then ({\".*\"} == 0)'},\n",
    "    {\"group\": \"complex\", \"expression\": 'if ({\".*\"} == \".*\") then ({\".*\"} == 0)'},\n",
    "]\n",
    "r = ruleminer.RuleMiner(\n",
    "    templates=templates, data=df, params={\"result_expressions\": True}\n",
    ")\n",
    "r.evaluate()\n",
    "assert r is not None"
   ]
  },
  {
   "cell_type": "code",
   "execution_count": null,
   "metadata": {
    "scrolled": true
   },
   "outputs": [],
   "source": [
    "r.rules"
   ]
  },
  {
   "cell_type": "code",
   "execution_count": null,
   "metadata": {},
   "outputs": [],
   "source": [
    "templates = [\n",
    "    {\n",
    "        \"group\": \"simple\",\n",
    "        \"expression\": 'if ({\"Name\"} == \"Insurer2\") then ({\"Type\"} == \".*\")',\n",
    "    }\n",
    "]\n",
    "r = ruleminer.RuleMiner(\n",
    "    templates=templates, data=df, params={\"result_expressions\": True}\n",
    ")\n",
    "r.evaluate()\n",
    "assert r is not None"
   ]
  },
  {
   "cell_type": "code",
   "execution_count": null,
   "metadata": {},
   "outputs": [],
   "source": [
    "r.rules"
   ]
  },
  {
   "cell_type": "code",
   "execution_count": null,
   "metadata": {},
   "outputs": [],
   "source": []
  },
  {
   "cell_type": "code",
   "execution_count": null,
   "metadata": {},
   "outputs": [],
   "source": []
  }
 ],
 "metadata": {
  "kernelspec": {
   "display_name": "Python 3 (ipykernel)",
   "language": "python",
   "name": "python3"
  },
  "language_info": {
   "codemirror_mode": {
    "name": "ipython",
    "version": 3
   },
   "file_extension": ".py",
   "mimetype": "text/x-python",
   "name": "python",
   "nbconvert_exporter": "python",
   "pygments_lexer": "ipython3",
   "version": "3.10.10"
  }
 },
 "nbformat": 4,
 "nbformat_minor": 2
}
